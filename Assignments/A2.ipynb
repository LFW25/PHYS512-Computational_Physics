{
 "cells": [
  {
   "cell_type": "markdown",
   "metadata": {},
   "source": [
    "# **Question 1** - Integration Errors"
   ]
  },
  {
   "cell_type": "markdown",
   "metadata": {},
   "source": [
    "## **a. Error Scaling**"
   ]
  },
  {
   "cell_type": "markdown",
   "metadata": {},
   "source": [
    "**Why do the errors associated with the trapezoidal rule scale $\\propto (\\Delta x)^2$?**\n",
    "\n",
    "In the trapezoidal rule, you approximate the area under the line by dividing it into equally spaced trapezoids and summing the areas of these trapezoids. Where $f(x)$ is the function that's being integrated over the interval [a, b] with n divisions, the width of each division $\\Delta x$ (also known as $h$) can be found with $$\\Delta x = \\frac{b - a}{n}$$\n",
    " The error term is determined from the second derivative of $f(x)$; since the Trapezoidal rule is doing a linear fit between divisions, it truncated the Taylor expansion at the second-power polynomial term, which means it is therefore proportional to $\\frac{f''(c)}{12}(\\Delta x)^2$, where c is some point in the range of integration [a, b]. This tells us that as the interval $\\Delta x$ decreases, the error decreases by the square.\n",
    "\n",
    "\n",
    "**Why do the errors associated with Simpson's Rule scale $\\propto (\\Delta x)^4$?**\n",
    "\n",
    "Simpsons rule is more accurate than the Trapezoidal rule; you approximate the integral of a function $f(x)$ over a given interval by dividing it into smaller divisions $\\Delta x$ and using quadratic interpolation between each division. Since the quadratic interpolation is fitting a fourth order polynomial, from the Taylor expansion of this quadratic interpolation, the error here scales with the fourth derivative $f^4(x)$ of the function. Therefore, the error is proportional to the division size to the power of 4 $(\\Delta x)^4$ ."
   ]
  },
  {
   "cell_type": "markdown",
   "metadata": {},
   "source": [
    "## **b. Error proof**"
   ]
  },
  {
   "cell_type": "markdown",
   "metadata": {},
   "source": [
    "If the value for the integral at spacing $h$ is $I_1$ and the value for the integral with spacing $2h$ is $I_2$:\n",
    "\n",
    "**Show that the error in $I_1$ can be written $\\epsilon _1\\approx \\frac{I_1 - I_2}{3}$ for the Trapezoidal Rule.**\n",
    "\n",
    "The error in the Trapezoidal Rule can be expressed as $$E(h) = k_1h^2 = \\epsilon _1 = X - I_1$$ \n",
    "$$\\epsilon _1 + I_1 = X$$ \n",
    "where $k_1$ is some constant that depends on the specific function and interval and $X$ is the true value of the integral. Therefore, since we know that the error scales with $h^2$, with spacing $2h$ the error will be\n",
    "$$E(2h) = k_1(2h)^2 = 4k_1h^2 = \\epsilon_2 = X-I_2 = 4\\epsilon_1$$\n",
    "$$4\\epsilon_1 = (\\epsilon_1 + I_1) - I_2$$\n",
    "$$3\\epsilon_1 = I_1 - I_2$$\n",
    "$$\\therefore \\epsilon_1 = \\frac{I_1 - I_2}{3}$$\n",
    "\n",
    "**Show that the error in $I_1$ can be written $\\epsilon _1\\approx \\frac{I_1 - I_2}{15}$ for Simpson's Rule.**\n",
    "\n",
    "Similar to above, the error in Simpson's Rule can be expressed as $$E(h) = k_1h^2 = \\epsilon _1 = X - I_1$$ \n",
    "$$\\epsilon _1 + I_1 = X$$ \n",
    "where $k_1$ is some constant that depends on the specific function and interval and $X$ is the true value of the integral. Therefore, since we know that the error scales with $h^4$, with spacing $2h$ the error will be\n",
    "$$E(2h) = k_1(2h)^4 = 16k_1h^4 = \\epsilon_2 = X-I_2 = 16\\epsilon_1$$\n",
    "$$16\\epsilon_1 = X - I_2 = (\\epsilon_1 + I_1) - I_2$$\n",
    "$$15\\epsilon_1 = I_1 - I_2$$\n",
    "$$\\therefore \\epsilon_1 = \\frac{I_1 - I_2}{15}$$"
   ]
  },
  {
   "cell_type": "markdown",
   "metadata": {},
   "source": [
    "## **c. Compare Trapezoidal and Simpson's Rules**"
   ]
  },
  {
   "cell_type": "code",
   "execution_count": 21,
   "metadata": {},
   "outputs": [
    {
     "name": "stdout",
     "output_type": "stream",
     "text": [
      "Trapezoidal Rule\n",
      "T_1 = 1.4823547292600159 T_2 = 0.7661939132105672 e_1 = 0.2387202720164829\n",
      "Simpson's Rule\n",
      "S_1 = 1.4829705173600634 S_2 = 1.0055299733270975 e_2 = 0.031829369602197725\n"
     ]
    },
    {
     "data": {
      "text/plain": [
       "Text(0.5, 1.0, 'Data from Input File')"
      ]
     },
     "execution_count": 21,
     "metadata": {},
     "output_type": "execute_result"
    },
    {
     "data": {
      "image/png": "[encoded data removed]",
      "text/plain": [
       "<Figure size 640x480 with 1 Axes>"
      ]
     },
     "metadata": {},
     "output_type": "display_data"
    }
   ],
   "source": [
    "import numpy as np\n",
    "import matplotlib.pyplot as plt\n",
    "\n",
    "a2_data = np.loadtxt('a2_data.txt', delimiter=' ', unpack = True)\n",
    "data_x, data_y = a2_data[0], a2_data[1]\n",
    "\n",
    "def trapezoidal_rule(x_pts, y_pts, h = 1):\n",
    "    \"\"\"The Trapezoidal Rule for numerical integration.\n",
    "\n",
    "    Args:\n",
    "        x_pts (array): An array of x values.\n",
    "        y_pts (array): An array of y values.\n",
    "\n",
    "    Returns:\n",
    "        trap_area (float): The area under the curve approximated by the trapezoidal rule.\n",
    "    \"\"\"    \n",
    "    # x_pts and y_pts are arrays of the same length\n",
    "    N = len(x_pts)\n",
    "    trap_area = y_pts[0]/2 + y_pts[-1]/2\n",
    "    dx = x_pts[1] - x_pts[0]\n",
    "    for i in range(1, N-1, h):\n",
    "        trap_area += y_pts[i]\n",
    "    trap_area *= dx\n",
    "    \n",
    "    return trap_area\n",
    "\n",
    "def simpsons_rule(x_pts, y_pts, h = 1):\n",
    "    \"\"\"The Simpson's Rule for numerical integration.\n",
    "\n",
    "    Args:\n",
    "        x_pts (array): An array of x values.\n",
    "        y_pts (array): An array of y values.\n",
    "\n",
    "    Returns:\n",
    "        simp_area (float): The area under the curve approximated by Simpson's rule.\n",
    "    \"\"\"    \n",
    "    N = len(x_pts)\n",
    "    simp_area = y_pts[0] + y_pts[-1]\n",
    "    dx = x_pts[1] - x_pts[0]\n",
    "    for i in range(1, N-1, h):\n",
    "        if i%2 == 0:\n",
    "            simp_area += 2*y_pts[i]\n",
    "        else:\n",
    "            simp_area += 4*y_pts[i]\n",
    "    simp_area *= dx/3\n",
    "    \n",
    "    return simp_area\n",
    "\n",
    "T_1 = trapezoidal_rule(data_x, data_y, h = 1)\n",
    "T_2 = trapezoidal_rule(data_x, data_y, h = 2)\n",
    "e_t = (T_1 - T_2)/3\n",
    "\n",
    "S_1 = simpsons_rule(data_x, data_y, h = 1)\n",
    "S_2 = simpsons_rule(data_x, data_y, h = 2)\n",
    "e_s = (S_1 - S_2)/15\n",
    "\n",
    "print('Trapezoidal Rule')\n",
    "print('T_1 =', T_1, 'T_2 =', T_2, 'e_1 =', e_t)\n",
    "print('Simpson\\'s Rule')\n",
    "print('S_1 =', S_1, 'S_2 =', S_2, 'e_2 =', e_s)\n",
    "\n",
    "plt.plot(data_x, data_y, 'o')\n",
    "plt.xlabel('x')\n",
    "plt.ylabel('y')\n",
    "plt.title('Data from Input File')"
   ]
  },
  {
   "cell_type": "markdown",
   "metadata": {},
   "source": [
    "The area returned by the Trapezoidal Rule was $1.4823547292600159 \\pm 0.2387202720164829$.\n",
    "\n",
    "The area returned by Simpson's Rule was $1.4829705173600634 \\pm 0.031829369602197725$.\n",
    "\n",
    "This difference makes sense as Simpson's Rule is more accurate than the Trapezoidal Rule, especially for a shape like the one produced by the data since it is very non-linear."
   ]
  },
  {
   "cell_type": "markdown",
   "metadata": {},
   "source": [
    "## **d. True Error**"
   ]
  },
  {
   "cell_type": "code",
   "execution_count": 35,
   "metadata": {},
   "outputs": [
    {
     "name": "stdout",
     "output_type": "stream",
     "text": [
      "Actual Trap Error: 0.0006196155086970467\n",
      "Estimated Trap Error: 0.2387202720164829\n",
      "Actual error is 0.25955713918349765% of the estimated error.\n",
      "\n",
      "Actual Simpson Error: 3.82740864957043e-06\n",
      "Estimated Simpson Error: 0.031829369602197725\n",
      "Actual error is 0.012024770510397286% of the estimated error.\n"
     ]
    }
   ],
   "source": [
    "true_value = 1.482974344768713\n",
    "\n",
    "trap_error = abs(T_1 - true_value)\n",
    "simp_error = abs(S_1 - true_value)\n",
    "\n",
    "print(\"Actual Trap Error:\", trap_error)\n",
    "print(\"Estimated Trap Error:\", e_t)\n",
    "print(f\"Actual error is {trap_error/e_t*100}% of the estimated error.\")\n",
    "\n",
    "print(\"\\nActual Simpson Error:\", simp_error)\n",
    "print(\"Estimated Simpson Error:\", e_s)\n",
    "print(f\"Actual error is {simp_error/e_s*100}% of the estimated error.\")\n"
   ]
  },
  {
   "cell_type": "markdown",
   "metadata": {},
   "source": [
    "Based on the numbers acquired here, the estimate of the error is not good. In both the Trapezoidal and Simpson's Rules, the actual error is significantly less than 1% of the estimated errror. The actual error is very much smaller than that estimated by the approximation derived above."
   ]
  },
  {
   "cell_type": "markdown",
   "metadata": {},
   "source": [
    "# **Question 2** - Chemical Potential of a Fermi Gas"
   ]
  },
  {
   "cell_type": "markdown",
   "metadata": {},
   "source": [
    "## **a. Evaluate Integral**"
   ]
  },
  {
   "cell_type": "markdown",
   "metadata": {},
   "source": [
    "In statistical mechanics, the chemical potential $\\mu$ of a gas on N non-interacting fermions in a volume V is given by the integral\n",
    "$$ N = V\\int_0^{\\infty} \\frac{8\\pi p^2dp}{h^3}\\frac{1}{1 + e^{(\\epsilon - \\mu)k_BT}} = V\\int_0^{\\infty} \\frac{8\\pi p^2dp}{h^3}\\frac{1}{1 + e^{x - y}}$$\n",
    "where $x = \\epsilon/k_BT$, $p = \\sqrt{2m\\epsilon}$, $y = \\mu/k_BT$\n",
    "\n",
    "The goal here is to numerically invert this integral to return the chemical potential $\\mu$ as a function of the number of particles N and temperature T.\n",
    "\n",
    "- Numerically evaluate integral for different values of y\n",
    "- Set up an interpolating function that returns y as a function of $N/n_QV$ where $n_Q = (mk_BT/2\\pi\\hbar^2)^{3/2}$\n",
    "\n",
    "$$ \\frac{Nh^3}{8\\pi V} = \\int_0^{\\infty} \\frac{p^2dp}{1 + e^{(\\epsilon - \\mu)k_BT}}"
   ]
  },
  {
   "cell_type": "code",
   "execution_count": null,
   "metadata": {},
   "outputs": [],
   "source": [
    "import numpy as np\n",
    "import matplotlib.pyplot as plt\n",
    "\n",
    "# Numerically evaluate the integral for different values of mu/kBT (y)\n",
    "k_B = 1.38064852e-23 # Boltzmann constant\n",
    "\n",
    "y = np.linspace(-10^3, 10^3, 10^6)\n"
   ]
  }
 ],
 "metadata": {
  "kernelspec": {
   "display_name": "Python 3",
   "language": "python",
   "name": "python3"
  },
  "language_info": {
   "codemirror_mode": {
    "name": "ipython",
    "version": 3
   },
   "file_extension": ".py",
   "mimetype": "text/x-python",
   "name": "python",
   "nbconvert_exporter": "python",
   "pygments_lexer": "ipython3",
   "version": "3.11.5"
  },
  "orig_nbformat": 4
 },
 "nbformat": 4,
 "nbformat_minor": 2
}
