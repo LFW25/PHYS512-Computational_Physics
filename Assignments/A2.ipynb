{
 "cells": [
  {
   "cell_type": "markdown",
   "metadata": {},
   "source": [
    "# **Question 1** - Integration Errors"
   ]
  },
  {
   "cell_type": "markdown",
   "metadata": {},
   "source": [
    "## **a. Error Scaling**"
   ]
  },
  {
   "cell_type": "markdown",
   "metadata": {},
   "source": [
    "**Why do the errors associated with the trapezoidal rule scale $\\propto (\\Delta x)^2$?**\n",
    "\n",
    "In the trapezoidal rule, you approximate the area under the line by dividing it into equally spaced trapezoids and summing the areas of these trapezoids. Where $f(x)$ is the function that's being integrated over the interval [a, b] with n divisions, the width of each division $\\Delta x$ (also known as $h$) can be found with $$\\Delta x = \\frac{b - a}{n}$$\n",
    " The error term is determined from the second derivative of $f(x)$; since the Trapezoidal rule is doing a linear fit between divisions, it truncated the Taylor expansion at the second-power polynomial term, which means it is therefore proportional to $\\frac{f''(c)}{12}(\\Delta x)^2$, where c is some point in the range of integration [a, b]. This tells us that as the interval $\\Delta x$ decreases, the error decreases by the square.\n",
    "\n",
    "\n",
    "**Why do the errors associated with Simpson's Rule scale $\\propto (\\Delta x)^4$?**\n",
    "\n",
    "Simpsons rule is more accurate than the Trapezoidal rule; you approximate the integral of a function $f(x)$ over a given interval by dividing it into smaller divisions $\\Delta x$ and using quadratic interpolation between each division. Since the quadratic interpolation is fitting a fourth order polynomial, from the Taylor expansion of this quadratic interpolation, the error here scales with the fourth derivative $f^4(x)$ of the function. Therefore, the error is proportional to the division size to the power of 4 $(\\Delta x)^4$ ."
   ]
  },
  {
   "cell_type": "markdown",
   "metadata": {},
   "source": [
    "## **b. Error proof**"
   ]
  },
  {
   "cell_type": "markdown",
   "metadata": {},
   "source": [
    "If the value for the integral at spacing $h$ is $I_1$ and the value for the integral with spacing $2h$ is $I_2$:\n",
    "\n",
    "**Show that the error in $I_1$ can be written $\\epsilon _1\\approx \\frac{I_1 - I_2}{3}$ for the Trapezoidal Rule.**\n",
    "\n",
    "The error in the Trapezoidal Rule can be expressed as $$E(h) = k_1h^2 = \\epsilon _1 = X - I_1$$ \n",
    "$$\\epsilon _1 + I_1 = X$$ \n",
    "where $k_1$ is some constant that depends on the specific function and interval and $X$ is the true value of the integral. Therefore, since we know that the error scales with $h^2$, with spacing $2h$ the error will be\n",
    "$$E(2h) = k_1(2h)^2 = 4k_1h^2 = \\epsilon_2 = X-I_2 = 4\\epsilon_1$$\n",
    "$$4\\epsilon_1 = (\\epsilon_1 + I_1) - I_2$$\n",
    "$$3\\epsilon_1 = I_1 - I_2$$\n",
    "$$\\therefore \\epsilon_1 = \\frac{I_1 - I_2}{3}$$\n",
    "\n",
    "**Show that the error in $I_1$ can be written $\\epsilon _1\\approx \\frac{I_1 - I_2}{15}$ for Simpson's Rule.**\n",
    "\n",
    "Similar to above, the error in Simpson's Rule can be expressed as $$E(h) = k_1h^2 = \\epsilon _1 = X - I_1$$ \n",
    "$$\\epsilon _1 + I_1 = X$$ \n",
    "where $k_1$ is some constant that depends on the specific function and interval and $X$ is the true value of the integral. Therefore, since we know that the error scales with $h^4$, with spacing $2h$ the error will be\n",
    "$$E(2h) = k_1(2h)^4 = 16k_1h^4 = \\epsilon_2 = X-I_2 = 16\\epsilon_1$$\n",
    "$$16\\epsilon_1 = X - I_2 = (\\epsilon_1 + I_1) - I_2$$\n",
    "$$15\\epsilon_1 = I_1 - I_2$$\n",
    "$$\\therefore \\epsilon_1 = \\frac{I_1 - I_2}{15}$$"
   ]
  },
  {
   "cell_type": "markdown",
   "metadata": {},
   "source": [
    "## **c. Compare Trapezoidal and Simpson's Rules**"
   ]
  },
  {
   "cell_type": "code",
   "execution_count": null,
   "metadata": {},
   "outputs": [],
   "source": [
    "import numpy as np\n",
    "import matplotlib.pyplot as plt\n",
    "\n",
    "a2_data = np.loadtxt('a2_data.txt', delimiter=' ', unpack = True)\n",
    "data_x, data_y = a2_data[0], a2_data[1]\n",
    "\n",
    "def trapezoidal_rule(x_pts, y_pts, h = 1):\n",
    "    \"\"\"The Trapezoidal Rule for numerical integration.\n",
    "\n",
    "    Args:\n",
    "        x_pts (array): An array of x values.\n",
    "        y_pts (array): An array of y values.\n",
    "\n",
    "    Returns:\n",
    "        trap_area (float): The area under the curve approximated by the trapezoidal rule.\n",
    "    \"\"\"    \n",
    "    # x_pts and y_pts are arrays of the same length\n",
    "    N = len(x_pts)\n",
    "    trap_area = y_pts[0]/2 + y_pts[-1]/2\n",
    "    dx = x_pts[1] - x_pts[0]\n",
    "    for i in range(1, N-1, h):\n",
    "        trap_area += y_pts[i]\n",
    "    trap_area *= dx\n",
    "    \n",
    "    return trap_area\n",
    "\n",
    "def simpsons_rule(x_pts, y_pts, h = 1):\n",
    "    \"\"\"The Simpson's Rule for numerical integration.\n",
    "\n",
    "    Args:\n",
    "        x_pts (array): An array of x values.\n",
    "        y_pts (array): An array of y values.\n",
    "\n",
    "    Returns:\n",
    "        simp_area (float): The area under the curve approximated by Simpson's rule.\n",
    "    \"\"\"    \n",
    "    N = len(x_pts)\n",
    "    simp_area = y_pts[0] + y_pts[-1]\n",
    "    dx = x_pts[1] - x_pts[0]\n",
    "    for i in range(1, N-1, h):\n",
    "        if i%2 == 0:\n",
    "            simp_area += 2*y_pts[i]\n",
    "        else:\n",
    "            simp_area += 4*y_pts[i]\n",
    "    simp_area *= dx/3\n",
    "    \n",
    "    return simp_area\n",
    "\n",
    "T_1 = trapezoidal_rule(data_x, data_y, h = 1)\n",
    "T_2 = trapezoidal_rule(data_x, data_y, h = 2)\n",
    "e_t = (T_1 - T_2)/3\n",
    "\n",
    "S_1 = simpsons_rule(data_x, data_y, h = 1)\n",
    "S_2 = simpsons_rule(data_x, data_y, h = 2)\n",
    "e_s = (S_1 - S_2)/15\n",
    "\n",
    "print('Trapezoidal Rule')\n",
    "print('T_1 =', T_1, 'T_2 =', T_2, 'e_1 =', e_t)\n",
    "print('Simpson\\'s Rule')\n",
    "print('S_1 =', S_1, 'S_2 =', S_2, 'e_2 =', e_s)\n",
    "\n",
    "plt.plot(data_x, data_y, 'o')\n",
    "plt.xlabel('x')\n",
    "plt.ylabel('y')\n",
    "plt.title('Data from Input File')"
   ]
  },
  {
   "cell_type": "markdown",
   "metadata": {},
   "source": [
    "The area returned by the Trapezoidal Rule was $1.4823547292600159 \\pm 0.2387202720164829$.\n",
    "\n",
    "The area returned by Simpson's Rule was $1.4829705173600634 \\pm 0.031829369602197725$.\n",
    "\n",
    "This difference makes sense as Simpson's Rule is more accurate than the Trapezoidal Rule, especially for a shape like the one produced by the data since it is very non-linear."
   ]
  },
  {
   "cell_type": "markdown",
   "metadata": {},
   "source": [
    "## **d. True Error**"
   ]
  },
  {
   "cell_type": "code",
   "execution_count": null,
   "metadata": {},
   "outputs": [],
   "source": [
    "true_value = 1.482974344768713\n",
    "\n",
    "trap_error = abs(T_1 - true_value)\n",
    "simp_error = abs(S_1 - true_value)\n",
    "\n",
    "print(\"Actual Trap Error:\", trap_error)\n",
    "print(\"Estimated Trap Error:\", e_t)\n",
    "print(f\"Actual error is {trap_error/e_t*100}% of the estimated error.\")\n",
    "\n",
    "print(\"\\nActual Simpson Error:\", simp_error)\n",
    "print(\"Estimated Simpson Error:\", e_s)\n",
    "print(f\"Actual error is {simp_error/e_s*100}% of the estimated error.\")\n"
   ]
  },
  {
   "cell_type": "markdown",
   "metadata": {},
   "source": [
    "Based on the numbers acquired here, the estimate of the error is not good. In both the Trapezoidal and Simpson's Rules, the actual error is significantly less than 1% of the estimated errror. The actual error is very much smaller than that estimated by the approximation derived above."
   ]
  },
  {
   "cell_type": "markdown",
   "metadata": {},
   "source": [
    "# **Question 2** - Chemical Potential of a Fermi Gas"
   ]
  },
  {
   "cell_type": "markdown",
   "metadata": {},
   "source": [
    "## **a. Evaluate Integral**"
   ]
  },
  {
   "cell_type": "markdown",
   "metadata": {},
   "source": [
    "In statistical mechanics, the chemical potential $\\mu$ of a gas on N non-interacting fermions in a volume V is given by the integral\n",
    "$$ N = V\\int_0^{\\infty} \\frac{8\\pi p^2dp}{h^3}\\frac{1}{1 + e^{(\\epsilon - \\mu)k_BT}} = V\\int_0^{\\infty} \\frac{8\\pi p^2dp}{h^3}\\frac{1}{1 + e^{x - a}}$$\n",
    "where $x = \\epsilon/k_BT$, $p = \\sqrt{2m\\epsilon}$, $a = \\mu/k_BT$, and $d\\epsilon = k_BTdx$\n",
    "\n",
    "$$ N = V\\int_0^{\\infty} \\frac{8\\pi (mk_BT)^{1/2}\\sqrt{2xdx}}{h^3}\\frac{1}{1 + e^{x - a}} $$\n",
    "\n",
    "and substituting in $nQ = (mk_BT/2\\pi\\hbar^2)^{3/2}$\n",
    "\n",
    "$$ N = V\\int_0^{\\infty} \\frac{4n_Q}{\\sqrt{\\pi}}\\frac{\\sqrt{x}dx}{1 + e^{x - a}} $$\n",
    "\n",
    "Therefore,\n",
    "\n",
    "$$ \\frac{N}{n_QV} = \\frac{4}{\\sqrt{\\pi}}\\int_0^{\\infty}\\frac{\\sqrt{x}dx}{1 + e^{x - a}} $$\n",
    "\n",
    "The aim here is to vary $a = \\frac{\\mu}{k_BT}$ and get out some values of $\\frac{N}{n_QV}$ by numerically integrating the integral. Following this, the aim is to create an interpolation function that will produce a value of $\\frac{\\mu}{k_BT}$ given a value of $\\frac{N}{n_QV}$."
   ]
  },
  {
   "cell_type": "code",
   "execution_count": 60,
   "metadata": {},
   "outputs": [
    {
     "data": {
      "text/plain": [
       "<matplotlib.legend.Legend at 0x29d667a3710>"
      ]
     },
     "execution_count": 60,
     "metadata": {},
     "output_type": "execute_result"
    },
    {
     "data": {
      "image/png": "[encoded data removed]",
      "text/plain": [
       "<Figure size 640x480 with 1 Axes>"
      ]
     },
     "metadata": {},
     "output_type": "display_data"
    }
   ],
   "source": [
    "import numpy as np\n",
    "import matplotlib.pyplot as plt\n",
    "from scipy.integrate import simpson\n",
    "import scipy as sc\n",
    "\n",
    "def integral(x, a):\n",
    "    res = 4/np.sqrt(np.pi)*np.sqrt(x)/(1 + np.exp(x - a))\n",
    "    return res\n",
    "\n",
    "a_list = np.linspace(-100, 1000, int(10E3)) # a = mu/kT, lower value is -600 since the function encounters overflow at lower values\n",
    "integral_list = []\n",
    "N = 1000 # Use 1000 x-points\n",
    "\n",
    "for a in a_list:\n",
    "    x = np.linspace(0, a + 100, N) # Gaussian distribution of x-points since the function has a Gaussian-ish shape\n",
    "    func_y_points = integral(x, a) # Get y-points of the function within the integrand\n",
    "    integral_list.append(simpson(func_y_points, x))\n",
    "\n",
    "\n",
    "# Plot the values of the integrand\n",
    "# plt.figure(1)\n",
    "# plt.scatter(x, func_y_points, s = 1, label = f\"a = {a}\")\n",
    "# plt.title(\"RHS of Equation\")\n",
    "# plt.xlabel(\"x\")\n",
    "# plt.ylabel(\"y\")\n",
    "\n",
    "spline = sc.interpolate.CubicSpline(integral_list, a_list)\n",
    "x_vals = np.linspace(0, 50000, 500)\n",
    "\n",
    "# Plot the LHS against the input mu/kT\n",
    "plt.figure(2)\n",
    "plt.scatter(integral_list, a_list, c = \"orange\", label = \"Non-Interpolated\")\n",
    "plt.xlabel(\"mu/kT\")\n",
    "plt.ylabel(\"N/nQV\")\n",
    "plt.plot(x_vals, spline(x_vals), label = \"Interpolated\")\n",
    "plt.legend()"
   ]
  },
  {
   "cell_type": "code",
   "execution_count": 59,
   "metadata": {},
   "outputs": [
    {
     "name": "stdout",
     "output_type": "stream",
     "text": [
      "-1.2955177016376032\n"
     ]
    }
   ],
   "source": [
    "def get_n_nQV(x):\n",
    "    spline = sc.interpolate.CubicSpline(integral_list, a_list)\n",
    "    interpolated_value = spline(x)\n",
    "\n",
    "    return interpolated_value\n",
    "\n",
    "print(get_n_nQV(0.5)) # Test the function"
   ]
  },
  {
   "cell_type": "markdown",
   "metadata": {},
   "source": [
    "# **Question 3** - Maxwell Boltzmann"
   ]
  },
  {
   "cell_type": "markdown",
   "metadata": {},
   "source": [
    "## **a. Generate numbers in a Maxwell-Boltzmann distribution**"
   ]
  },
  {
   "cell_type": "markdown",
   "metadata": {},
   "source": [
    "The 3D Maxwell Boltzmann distribution is $$f(v)d^3v =\\sqrt{\\frac{2}{\\pi}}v^2\\exp({\\frac{-v^2}{2}})d^3v$$"
   ]
  },
  {
   "cell_type": "code",
   "execution_count": null,
   "metadata": {},
   "outputs": [],
   "source": [
    "import numpy as np\n",
    "import matplotlib.pyplot as plt\n",
    "from scipy.stats import maxwell\n",
    "\n",
    "\n",
    "def gaussian(x, mu, sig):\n",
    "    return np.exp(-np.power(x - mu, 2.) / (2 * np.power(sig, 2.)))\n",
    "    #return np.exp(-1*abs(x**3))\n",
    "\n",
    "def mb_func(v):\n",
    "          T = 300 # Kelvin\n",
    "          m = 28.0134 *  1.66054e-27 # mass of N2\n",
    "          k_B = 1.38064852e-23 # Boltzmann constant\n",
    "          #return (m/(2*np.pi*k_B*T))**(3/2) * 4*np.pi*v**2 * np.exp(-m*v**2/(2*k_B*T))\n",
    "          return np.sqrt(2/np.pi)*v**2 * np.exp(-v**2/2)\n",
    "\n",
    "def MaxwellBoltzmann(N):\n",
    "    x_range = abs(np.random.normal(2, 2, N))\n",
    "    y_range = np.random.uniform(0, 1.2, N)\n",
    "\n",
    "    p_x = gaussian(x_range, 1.7, 2)\n",
    "    f_x = mb_func(x_range)\n",
    "\n",
    "    keep_y = y_range[np.where(y_range <= f_x/p_x)]\n",
    "    keep_x = x_range[np.where(y_range <= f_x/p_x)]\n",
    "    bad_y = y_range[np.where(y_range > f_x/p_x)]\n",
    "    bad_x = x_range[np.where(y_range > f_x/p_x)]\n",
    "\n",
    "    return x_range, p_x, f_x, keep_x, keep_y, bad_x, bad_y\n"
   ]
  },
  {
   "cell_type": "code",
   "execution_count": null,
   "metadata": {},
   "outputs": [],
   "source": [
    "N_values = int(1E4)\n",
    "x_range, p_x, f_x, keep_x, keep_y, bad_x, bad_y = MaxwellBoltzmann(N_values)"
   ]
  },
  {
   "cell_type": "code",
   "execution_count": null,
   "metadata": {},
   "outputs": [],
   "source": [
    "plt.figure()\n",
    "plt.scatter(x_range, p_x, label = \"Gaussian\")\n",
    "plt.scatter(x_range, f_x, label = \"Function\")\n",
    "plt.scatter(keep_x, keep_y, label = \"Accepted\", alpha = 0.1)\n",
    "plt.scatter(bad_x, bad_y, label = \"Rejected\", alpha = 0.1)\n",
    "plt.title(\"Maxwell-Boltzmann Distribution\")\n",
    "plt.legend()"
   ]
  },
  {
   "cell_type": "markdown",
   "metadata": {},
   "source": [
    "EXPLAIN ALGROTIHM"
   ]
  },
  {
   "cell_type": "markdown",
   "metadata": {},
   "source": [
    "## **b. Compare Histogram**"
   ]
  },
  {
   "cell_type": "code",
   "execution_count": null,
   "metadata": {},
   "outputs": [],
   "source": [
    "N_values = int(1E5)\n",
    "x_range, p_x, f_x, keep_x, keep_y, bad_x, bad_y = MaxwellBoltzmann(N_values)\n",
    "\n",
    "plt.hist(keep_x, density=True, label = \"Accepted Values\")\n",
    "plt.scatter(x_range, f_x, c = \"r\", label = \"Theoretical Distribution\")\n",
    "plt.title(\"Maxwell-Boltzmann Distribution\")\n",
    "plt.legend()"
   ]
  },
  {
   "cell_type": "markdown",
   "metadata": {},
   "source": [
    "## **c. Average Velocity**"
   ]
  },
  {
   "cell_type": "code",
   "execution_count": null,
   "metadata": {},
   "outputs": [],
   "source": [
    "import numpy as np\n",
    "import matplotlib.pyplot as plt\n",
    "\n",
    "m = 28.0134 *  1.66054e-27 # mass of N2\n",
    "T = 300 # Kelvin\n",
    "k_B = 1.38064852e-23 # Boltzmann constant\n",
    "\n",
    "theoretical_value = ((8*k_B*T)/(np.pi*m))**(1/2)\n",
    "\n",
    "average_generated = np.mean(keep_x)\n",
    "\n",
    "N_steps = [100, 1000, 10000, 100000, 1000000]\n",
    "error_list = []\n",
    "for N in N_steps:\n",
    "    x_range, p_x, f_x, keep_x, keep_y, bad_x, bad_y = MaxwellBoltzmann(N)\n",
    "    average_generated = np.mean(keep_x)\n",
    "    error = abs(theoretical_value - average_generated)\n",
    "    error_list.append(error)\n",
    "\n",
    "plt.plot(N_steps, error_list)\n",
    "plt.xlabel(\"Number of Generated Values\")\n",
    "plt.ylabel(\"Error\")\n"
   ]
  },
  {
   "cell_type": "code",
   "execution_count": null,
   "metadata": {},
   "outputs": [],
   "source": []
  }
 ],
 "metadata": {
  "kernelspec": {
   "display_name": "Python 3",
   "language": "python",
   "name": "python3"
  },
  "language_info": {
   "codemirror_mode": {
    "name": "ipython",
    "version": 3
   },
   "file_extension": ".py",
   "mimetype": "text/x-python",
   "name": "python",
   "nbconvert_exporter": "python",
   "pygments_lexer": "ipython3",
   "version": "3.11.5"
  },
  "orig_nbformat": 4
 },
 "nbformat": 4,
 "nbformat_minor": 2
}
