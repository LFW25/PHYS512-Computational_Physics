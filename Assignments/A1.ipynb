{
 "cells": [
  {
   "attachments": {},
   "cell_type": "markdown",
   "metadata": {},
   "source": [
    "# **Question 1**\n",
    "\n",
    "**Round off error in long term integrations of planetary orbits**"
   ]
  },
  {
   "attachments": {},
   "cell_type": "markdown",
   "metadata": {},
   "source": [
    "Modelling the growth of the error over N operations as a random walk gives *Brouwer's Law*, which states that the total error after N steps will be $$ \\approx \\sqrt{N}\\epsilon$$ where $\\epsilon \\sim 10^{-16}$ for a double precision float.\n",
    "\n",
    "The *semi-implicit Euler method* involves updating the velocity and position of the planet from timestep *n* to timestep $n + 1$ according to\n",
    "$$ v_{n+1} = v_n + a_n\\Delta t$$\n",
    "$$ = v_n - \\frac{\\mu x_n}{r^3}\\Delta t$$\n",
    "$$ x_{n+1} = x_n + v_{n+1}\\Delta t$$\n",
    "\n",
    "with r = radius of Earth from the Sun and $\\mu$ is the gravitational parameter of the sun (also called $GM$).\n",
    "In this scheme, the velocity is updated first using the acceleration, and then the value of position is updated using the new velocity."
   ]
  },
  {
   "attachments": {},
   "cell_type": "markdown",
   "metadata": {},
   "source": [
    "### a) **Semi-Implicit Euler Method**\n",
    "Write a code which uses the semi-implicit Euler method to follow the Earth's orbit around the sun. Integrate the orbit for 1 year and plot orbit in the x-y plane to check the Earth moves as expected.\n",
    "\n",
    "Assume:\n",
    "- $\\mu \\approx (GM)_{Sun} = 1.3271 \\times 10^{20}$ N\n",
    "- $1 AU = 1.496 \\times 10^{11}$ m\n",
    "\n",
    "$$F = ma = \\frac{\\mu m}{r^2}$$\n",
    "$$ \\therefore a = \\frac{\\mu}{r^2}$$\n"
   ]
  },
  {
   "cell_type": "code",
   "execution_count": null,
   "metadata": {},
   "outputs": [],
   "source": [
    "import numpy as np\n",
    "import matplotlib.pyplot as plt\n",
    "\n",
    "# Set Up Variables\n",
    "gm_Sun = 1.3271 * (10**20) # Newtons\n",
    "rad = 1.496 * (10**11) # Metres\n",
    "\n",
    "# Sun at origin\n",
    "x_0 = rad # Initial Earth coordinates on the x-axis\n",
    "vy_0 = (2*np.pi*rad)/(365.25 * 86400) # v = d/t = 2*pi*r/t\n",
    "\n",
    "n = int(365.25 * 86400) # approximate number of seconds in 1 year\n",
    "dt = 1 # Delta t is 1 second\n",
    "\n",
    "def update_v(v, gm, x, rad, dt):\n",
    "    new_v = v - (gm*x)/(rad**3)*dt\n",
    "    return new_v\n",
    "\n",
    "def update_x(x, new_v, dt):\n",
    "    new_x = x + new_v * dt\n",
    "    return new_x"
   ]
  },
  {
   "cell_type": "code",
   "execution_count": null,
   "metadata": {},
   "outputs": [],
   "source": [
    "x = np.zeros(n)\n",
    "y = np.zeros(n) # Initial y = 0\n",
    "vx = np.zeros(n)# Initial vx = 0\n",
    "vy = np.zeros(n)\n",
    "\n",
    "x[0] = x_0\n",
    "vy[0] = vy_0\n",
    "\n",
    "for i in range(0, int(365.25 * 86400) - 1, dt):\n",
    "    rad = (x[i]**2 + y[i]**2)**0.5\n",
    "    vx[i+1] = update_v(vx[i], gm_Sun, x[i], rad, dt)\n",
    "    vy[i+1] = update_v(vy[i], gm_Sun, y[i], rad, dt)\n",
    "\n",
    "    x[i+1] = update_x(x[i], vx[i+1], dt)\n",
    "    y[i+1] = update_x(y[i], vy[i+1], dt)\n",
    "  "
   ]
  },
  {
   "cell_type": "code",
   "execution_count": null,
   "metadata": {},
   "outputs": [],
   "source": [
    "plt.plot(x, y, 'go', markersize = 1, label = 'Orbit Path')\n",
    "plt.plot(0, 0, 'yo', label = 'Sun')        #yellow marker for the sun\n",
    "plt.plot(x[0], 0, 'bo', label = 'Earth Initial Positon')  #dark blue marker for earth's initial position\n",
    "plt.axis('equal')\n",
    "plt.xlabel ('x')\n",
    "plt.ylabel ('y')\n",
    "plt.title(\"Orbit of Earth over 1 year\")\n",
    "#plt.legend()"
   ]
  },
  {
   "cell_type": "markdown",
   "metadata": {},
   "source": [
    "### b) **Fractional Energy Change**\n",
    "\n",
    "Using different timesteps $\\Delta t$ ranging from $\\Delta t = 0.1 years$ to $\\approx 10^{-9} years (\\approx 0.04 seconds)$, plot the fractional energy change $\\frac{\\Delta E}{E}$ against timestep $\\Delta t$ and number of steps $N$.\n",
    "$$\\frac{\\Delta E}{E} = \\frac{E_{final} - E_{initial}}{E_{initial}}$$\n",
    "$$E = E_{grav} + E_{kinetic} =-\\frac{GMm}{r} + {\\frac{1}{2} mv^2} \\approx -\\frac{\\mu}{r} + \\frac{1}{2} mv^2$$"
   ]
  },
  {
   "cell_type": "code",
   "execution_count": null,
   "metadata": {},
   "outputs": [],
   "source": [
    "import numpy as np\n",
    "import matplotlib.pyplot as plt\n",
    "from scipy.special import logsumexp\n",
    "\n",
    "# Set Up Variables\n",
    "gm_Sun = 1.3271 * (10**20) # Newtons\n",
    "\n",
    "seconds_per_year = int(365.25 * 86400) # approximate number of seconds in 1 year\n",
    "dt = 0.1 # Delta t\n",
    "num_steps = int(seconds_per_year/dt)\n",
    "print(num_steps)\n",
    "\n",
    "def e_grav(mu, r):\n",
    "    return -1*mu/r # Joules\n",
    "\n",
    "def e_kinetic(vx, vy):\n",
    "    m_earth = 5.97219*10**24 # kilograms\n",
    "    v_total = (vx**2 + vy**2)**0.5\n",
    "    return 0.5*m_earth*v_total\n",
    "\n",
    "def update_v(v, gm, x, rad, dt):\n",
    "    new_v = v - (gm*x)/(logsumexp(rad**3))*dt\n",
    "    return new_v\n",
    "\n",
    "def update_x(x, new_v, dt):\n",
    "    new_x = x + new_v * dt\n",
    "    return new_x\n",
    "\n",
    "x_lists = []\n",
    "y_lists = []\n",
    "vx_lists = []\n",
    "vy_lists = []\n",
    "\n",
    "e_final_list = []\n",
    "\n",
    "N_list = []\n",
    "dt_list = []\n",
    "\n",
    "#while dt <= 10000000 and num_steps > 0:\n",
    "while True:\n",
    "    # Logarithmically scale dt from 0.1 up to the number of seconds in a year\n",
    "\n",
    "    rad = 1.496 * (10**11) # Metres\n",
    "\n",
    "    # Sun at origin\n",
    "    x_0 = rad # Initial Earth coordinates on the x-axis\n",
    "    vy_0 = (2*np.pi*rad)/(365.25 * 86400) # v = d/t = 2*pi*r/t\n",
    "    e_0 = e_grav(gm_Sun, rad) + e_kinetic(0, vy_0)\n",
    "\n",
    "\n",
    "\n",
    "    x = np.zeros(num_steps)\n",
    "    y = np.zeros(num_steps) # Initial y = 0\n",
    "    vx = np.zeros(num_steps)# Initial vx = 0\n",
    "    vy = np.zeros(num_steps)\n",
    "\n",
    "    x[0] = x_0\n",
    "    vy[0] = vy_0\n",
    "\n",
    "    for i in range(0, num_steps - 1):\n",
    "        #rad = (x[i]**2 + y[i]**2)**0.5\n",
    "        vx[i+1] = update_v(vx[i], gm_Sun, x[i], rad, dt)\n",
    "        vy[i+1] = update_v(vy[i], gm_Sun, y[i], rad, dt)\n",
    "\n",
    "        x[i+1] = update_x(x[i], vx[i+1], dt)\n",
    "        y[i+1] = update_x(y[i], vy[i+1], dt)\n",
    "\n",
    "    e_final = e_grav(gm_Sun, rad) + e_kinetic(vx[-1], vy[-1])\n",
    "\n",
    "    e_final_list.append(e_final)\n",
    "\n",
    "    x_lists.append(x)\n",
    "    y_lists.append(y)\n",
    "    vx_lists.append(vx)\n",
    "    vy_lists.append(vy)\n",
    "\n",
    "    N_list.append(num_steps)\n",
    "    dt_list.append(dt)\n",
    "    break\n",
    "    #dt *= 10\n",
    "    #num_steps = int(seconds_per_year/dt)\n",
    "  "
   ]
  },
  {
   "cell_type": "code",
   "execution_count": null,
   "metadata": {},
   "outputs": [],
   "source": [
    "e_final_array = np.array(e_final_list)\n",
    "e_frac_change = (e_final_array - e_0)/e_0"
   ]
  },
  {
   "cell_type": "code",
   "execution_count": null,
   "metadata": {},
   "outputs": [],
   "source": [
    "print(dt_list)\n",
    "print(N_list)\n",
    "print(e_frac_change)\n",
    "print(e_final_array)"
   ]
  },
  {
   "cell_type": "code",
   "execution_count": 20,
   "metadata": {},
   "outputs": [],
   "source": [
    "temp_dt = [1, 10, 100, 1000, 10000, 100000, 1000000]\n",
    "temp_N = [31557600, 3155760, 315576, 31557, 3155, 315, 31]\n",
    "temp_efrac = [-3.52392138e-11, -1.00000000e+00, -1.00000000e+00, -1.00000000e+00, -1.00000000e+00, -1.00000000e+00, -1.00000000e+00]\n",
    "temp_efinal = [-3.52392138e-11, -1.00000000e+00, -1.00000000e+00, -1.00000000e+00, -1.00000000e+00, -1.00000000e+00, -1.00000000e+00]"
   ]
  },
  {
   "cell_type": "code",
   "execution_count": 21,
   "metadata": {},
   "outputs": [
    {
     "data": {
      "text/plain": [
       "[<matplotlib.lines.Line2D at 0x212e3d1e770>]"
      ]
     },
     "execution_count": 21,
     "metadata": {},
     "output_type": "execute_result"
    },
    {
     "data": {
      "image/png": "[encoded data removed]",
      "text/plain": [
       "<Figure size 640x480 with 1 Axes>"
      ]
     },
     "metadata": {},
     "output_type": "display_data"
    }
   ],
   "source": [
    "plt.plot(temp_dt, temp_efrac, scalex = \"log\", scaley = \"log\")\n",
    "plt.plot(temp_N, temp_efrac, scalex = \"log\", scaley = \"log\")"
   ]
  },
  {
   "cell_type": "code",
   "execution_count": null,
   "metadata": {},
   "outputs": [],
   "source": []
  }
 ],
 "metadata": {
  "kernelspec": {
   "display_name": "base",
   "language": "python",
   "name": "python3"
  },
  "language_info": {
   "codemirror_mode": {
    "name": "ipython",
    "version": 3
   },
   "file_extension": ".py",
   "mimetype": "text/x-python",
   "name": "python",
   "nbconvert_exporter": "python",
   "pygments_lexer": "ipython3",
   "version": "3.10.9"
  },
  "orig_nbformat": 4
 },
 "nbformat": 4,
 "nbformat_minor": 2
}
