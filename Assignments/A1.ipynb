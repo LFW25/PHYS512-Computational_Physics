{
 "cells": [
  {
   "attachments": {},
   "cell_type": "markdown",
   "metadata": {},
   "source": [
    "# **Question 1**\n",
    "\n",
    "**Round off error in long term integrations of planetary orbits**"
   ]
  },
  {
   "attachments": {},
   "cell_type": "markdown",
   "metadata": {},
   "source": [
    "Modelling the growth of the error over N operations as a random walk gives *Brouwer's Law*, which states that the total error after N steps will be $$ \\approx \\sqrt{N}\\epsilon$$ where $\\epsilon \\sim 10^{-16}$ for a double precision float.\n",
    "\n",
    "The *semi-implicit Euler method* involves updating the velocity and position of the planet from timestep *n* to timestep $n + 1$ according to\n",
    "$$ v_{n+1} = v_n + a_n\\Delta t$$\n",
    "$$ x_{n+1} = x_n + v_{n+1}\\Delta t$$\n",
    "\n",
    "In this scheme, the velocity is updated first using the acceleration, and then the value of position is updated using the new velocity."
   ]
  },
  {
   "attachments": {},
   "cell_type": "markdown",
   "metadata": {},
   "source": [
    "### a) **Semi-Implicit Euler Method**\n",
    "Write a code which uses the semi-implicit Euler method to follow the Earth's orbit around the sun. Integrate the orbit for 1 year and plot orbit in the x-y plance to check the Earth moves as expected.\n",
    "\n",
    "Assume:\n",
    "- $\\mu \\approx (GM)_{Sun} = 1.3271 \\times 10^{20}$ N\n",
    "- $1 AU = 1.496 \\times 10^{11}$ m\n",
    "\n",
    "$$F = ma = \\frac{\\mu m}{r^2}$$\n",
    "$$ \\therefore a = \\frac{\\mu}{r^2}$$\n"
   ]
  },
  {
   "cell_type": "code",
   "execution_count": null,
   "metadata": {},
   "outputs": [],
   "source": [
    "https://stackoverflow.com/questions/61572804/earth-orbit-plot-python"
   ]
  },
  {
   "cell_type": "code",
   "execution_count": 2,
   "metadata": {},
   "outputs": [],
   "source": [
    "import numpy as np\n",
    "import matplotlib.pyplot as plt\n",
    "\n",
    "# Set Up Variables\n",
    "gm_Sun = 1.3271 * (10**20) # Newtons\n",
    "rad = 1.496 * (10**11) # Metres\n",
    "\n",
    "mu = rad**3 * 4 * np.pi**2\n",
    "\n",
    "a_c = [gm_Sun/(rad**2), 0] # Magnitude of acceleration of Earth toward the sun,units of m/s\n",
    "\n",
    "# Sun always at (x, y) = (0, 0)\n",
    "x_0 = rad # Initial Earth coordinates on the x-axis\n",
    "y_0 = 0\n",
    "\n",
    "vx_0 = 0\n",
    "vy_0 = (2*np.pi*rad)/(365.25 * 86400) # Assumed initial velocity of Earth around the sun, assuming orbit is circular, velocity only in y-direction (tangential to acceleration vector)\n",
    "\n",
    "dt = 1 # Delta t is 1 second\n",
    "n = len(range(int(365.25 * 86400)/dt))\n",
    "\n",
    "def update_a(mu, x, r):\n",
    "    a = (mu*x)/(r**3)\n",
    "    return a\n",
    "\n",
    "def update_v(v, a, dt):\n",
    "    new_v = v + a*dt\n",
    "    return new_v\n",
    "\n",
    "def update_x(x, new_v, dt):\n",
    "    new_x = x + new_v * dt\n",
    "    return new_x"
   ]
  },
  {
   "cell_type": "code",
   "execution_count": 5,
   "metadata": {},
   "outputs": [],
   "source": [
    "x = np.zeros_like(n)\n",
    "y = np.zeros_like(n)\n",
    "vx = np.zeros_like(n)\n",
    "vy = np.zeros_like(n)\n",
    "\n",
    "x[0], y[0] = x_0, y_0\n",
    "vx[0], vy[0] = vx_0, vy_0\n",
    "\n",
    "for i in range(0, int(365.25 * 86400), dt):\n",
    "    vx[i+1] = vx[i] + a_c[0]*dt\n",
    "    \n",
    "   "
   ]
  },
  {
   "cell_type": "code",
   "execution_count": null,
   "metadata": {},
   "outputs": [],
   "source": [
    "    vx[i + 1] = update_v(vx[i], update_a(mu, x[i], rad), dt)\n",
    "    vy[i + 1] = update_v(vy[i], update_a(mu, y[i], rad), dt)\n",
    "\n",
    "    x[i + 1] = update_x(x[i], vx[i + 1], dt)\n",
    "    y[i + 1] = update_x(y[i], vy[i + 1], dt) "
   ]
  },
  {
   "cell_type": "code",
   "execution_count": 6,
   "metadata": {},
   "outputs": [
    {
     "data": {
      "text/plain": [
       "Text(0, 0.5, 'y')"
      ]
     },
     "execution_count": 6,
     "metadata": {},
     "output_type": "execute_result"
    },
    {
     "data": {
      "image/png": "[encoded data removed]",
      "text/plain": [
       "<Figure size 640x480 with 1 Axes>"
      ]
     },
     "metadata": {},
     "output_type": "display_data"
    }
   ],
   "source": [
    "plt.plot(x, y, 'go', markersize = 1, label = 'Orbit Path')\n",
    "plt.plot(0, 0, 'yo', label = 'Sun')        #yellow marker for the sun\n",
    "plt.plot(x[0], 0, 'bo', label = 'Earth Initial Positon')  #dark blue marker for earth's initial position\n",
    "plt.axis('equal')\n",
    "plt.xlabel ('x')\n",
    "plt.ylabel ('y')"
   ]
  },
  {
   "cell_type": "code",
   "execution_count": null,
   "metadata": {},
   "outputs": [],
   "source": []
  }
 ],
 "metadata": {
  "kernelspec": {
   "display_name": "base",
   "language": "python",
   "name": "python3"
  },
  "language_info": {
   "codemirror_mode": {
    "name": "ipython",
    "version": 3
   },
   "file_extension": ".py",
   "mimetype": "text/x-python",
   "name": "python",
   "nbconvert_exporter": "python",
   "pygments_lexer": "ipython3",
   "version": "3.10.9"
  },
  "orig_nbformat": 4
 },
 "nbformat": 4,
 "nbformat_minor": 2
}
