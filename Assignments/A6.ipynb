{
 "cells": [
  {
   "cell_type": "markdown",
   "metadata": {},
   "source": [
    "# **Question 1** - Pseudo-Hamiltonian for the Simple Harmonic Oscillator"
   ]
  },
  {
   "cell_type": "markdown",
   "metadata": {},
   "source": [
    "## **a)** Conservation of the Pseudo-Hamiltonian"
   ]
  },
  {
   "cell_type": "markdown",
   "metadata": {},
   "source": [
    "Use the Jacobian for the leapfrog method to show that the pseudo-Hamiltonian\n",
    "$$\\tilde{H}(h) = \\frac{1}{2}x^2 + \\frac{1}{2}v^2\\frac{1}{1 - h^2/4}$$\n",
    "is conserved when using the leapfrog method.\n",
    "\n",
    "For simplicity, the mass, spring constant, and oscillator frequencies are set to 1 here.\n",
    "\n",
    "The Leapfrog method is:\n",
    "\n",
    "$$v_{n+1/2} = v_n + a_n \\frac{\\Delta t}{2} = v_n - x_n \\frac{\\Delta t}{2}$$\n",
    "$$x_{n+1/2} = x_n + v_{n + 1/2} \\Delta t$$\n",
    "$$v_{n+1} = v_{n + 1/2} + a_{n + 1} \\frac{\\Delta t}{2} = v_{n + 1/2} - x_{n + 1} \\frac{\\Delta t}{2}$$\n",
    "\n",
    "which can be written in Matrix form as:\n",
    "$$\n",
    "\\begin{pmatrix}\n",
    "x_{n+1}\\\\\n",
    "v_{n+1}\n",
    "\\end{pmatrix} =\n",
    "\\begin{pmatrix}\n",
    "1 & 0\\\\\n",
    "-\\frac{h}{2} & 1\n",
    "\\end{pmatrix}\n",
    "\\begin{pmatrix}\n",
    "1 & h\\\\\n",
    "0 & 1\n",
    "\\end{pmatrix}\n",
    "\\begin{pmatrix}\n",
    "1 & 0\\\\\n",
    "-\\frac{h}{2} & 1\n",
    "\\end{pmatrix}\n",
    "\\begin{pmatrix}\n",
    "x_{n}\\\\\n",
    "v_{n}\n",
    "\\end{pmatrix}\n",
    "$$"
   ]
  },
  {
   "cell_type": "code",
   "execution_count": 2,
   "metadata": {},
   "outputs": [
    {
     "name": "stdout",
     "output_type": "stream",
     "text": [
      "Matrix([[1 - h**2/2, h], [h**3/4 - h, 1 - h**2/2]])\n"
     ]
    }
   ],
   "source": [
    "import sympy.matrices as sm\n",
    "import sympy\n",
    "\n",
    "def Leapfrog(dt):\n",
    "    lf1 = sm.Matrix([[1, 0], [-dt/2, 1]])\n",
    "    lf2 = sm.Matrix([[1, dt], [0, 1]])\n",
    "    Jlf = lf1*lf2*lf1\n",
    "    return Jlf\n",
    "\n",
    "# declare the step size h as a symbol\n",
    "h = sympy.Symbol('h')\n",
    "print(sympy.simplify(Leapfrog(h)))"
   ]
  },
  {
   "cell_type": "markdown",
   "metadata": {},
   "source": [
    "## **b)** Implemenation of the Leapfrog method"
   ]
  },
  {
   "cell_type": "markdown",
   "metadata": {},
   "source": [
    "Implement the leapfrog method for the simple harmonic oscillator numerically, and verify that they indeed do conserve $\\tilde{H}$."
   ]
  },
  {
   "cell_type": "code",
   "execution_count": null,
   "metadata": {},
   "outputs": [],
   "source": []
  },
  {
   "cell_type": "markdown",
   "metadata": {},
   "source": [
    "## **c)** Scaling of Energy Error"
   ]
  },
  {
   "cell_type": "markdown",
   "metadata": {},
   "source": [
    "Use the code from part b to calculate the scaling of the energy error with the number of steps per oscillation cycle for integrations of:\n",
    "1. A whole oscillation\n",
    "2. Half an oscillation\n",
    "\n",
    "Discuss whether the escalins you find agree with the analytic results for the leapfrog method."
   ]
  },
  {
   "cell_type": "code",
   "execution_count": null,
   "metadata": {},
   "outputs": [],
   "source": []
  }
 ],
 "metadata": {
  "kernelspec": {
   "display_name": "Python 3",
   "language": "python",
   "name": "python3"
  },
  "language_info": {
   "codemirror_mode": {
    "name": "ipython",
    "version": 3
   },
   "file_extension": ".py",
   "mimetype": "text/x-python",
   "name": "python",
   "nbconvert_exporter": "python",
   "pygments_lexer": "ipython3",
   "version": "3.11.6"
  }
 },
 "nbformat": 4,
 "nbformat_minor": 2
}
